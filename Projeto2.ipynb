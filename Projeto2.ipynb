{
  "nbformat": 4,
  "nbformat_minor": 0,
  "metadata": {
    "colab": {
      "name": "Projeto2.ipynb",
      "provenance": [],
      "collapsed_sections": [],
      "mount_file_id": "1ilfAlnfmKGWoXRvICmh6f268klhpi99w",
      "authorship_tag": "ABX9TyM/20CRHz9drCFdpGWt/cv+",
      "include_colab_link": true
    },
    "kernelspec": {
      "name": "python3",
      "display_name": "Python 3"
    }
  },
  "cells": [
    {
      "cell_type": "markdown",
      "metadata": {
        "id": "view-in-github",
        "colab_type": "text"
      },
      "source": [
        "<a href=\"https://colab.research.google.com/github/dantls/python-learning/blob/main/Projeto2.ipynb\" target=\"_parent\"><img src=\"https://colab.research.google.com/assets/colab-badge.svg\" alt=\"Open In Colab\"/></a>"
      ]
    },
    {
      "cell_type": "markdown",
      "metadata": {
        "id": "7vuTQAYPnOop"
      },
      "source": [
        "**Desafio:**\r\n",
        "Você trabalha em uma grande empresa de Cartão de Crédito e o diretor da empresa percebeu que o número de clientes que cancelam seus cartões tem aumentado significativamente, causando prejuízos enormes para a empresa\r\n",
        "\r\n",
        "O que fazer para evitar isso? Como saber as pessoas que têm maior tendência a cancelar o cartão?\r\n",
        "\r\n",
        "**O que temos:**\r\n",
        "Temos 1 base de dados com informações dos clientes, tanto clientes atuais quanto clientes que cancelaram o cartão\r\n",
        "\r\n",
        "Download da Base de Dados: https://drive.google.com/file/d/1c0F7BDwvOZ9NnIj3tUANuvmp_jRYsh31/view?usp=sharing\r\n",
        "\r\n",
        "Referência: https://www.kaggle.com/sakshigoyal7/credit-card-**customers**"
      ]
    },
    {
      "cell_type": "markdown",
      "metadata": {
        "id": "mQgep26Pk6Gy"
      },
      "source": [
        "- Passo 1: Importar a base de dados\r\n",
        "- Passo 2: Tratamento da base de dados\r\n",
        "  - Excluir / Corrigir linhas e colunas vazias\r\n",
        "  - Corrigir as colunas importadas\r\n",
        "  - Excluir colunas inuteis\r\n",
        "- Passo 3: Analisar a base de dados\r\n",
        "  - Queremos descobrir os principais motivos de cancelamento de cartão\r\n"
      ]
    },
    {
      "cell_type": "markdown",
      "metadata": {
        "id": "74p7vU4Cn4Ij"
      },
      "source": [
        "Passo 1: Importar a base de dados"
      ]
    },
    {
      "cell_type": "code",
      "metadata": {
        "id": "lH_oC4hOk11c"
      },
      "source": [
        "import pandas as pd\r\n",
        "tabela_clientes = pd.read_csv(\"/content/drive/MyDrive/ClientesBanco.csv\" ,encoding='latin1')"
      ],
      "execution_count": 12,
      "outputs": []
    },
    {
      "cell_type": "code",
      "metadata": {
        "id": "LtgAWGdAqkde"
      },
      "source": [
        "tabela_clientes = tabela_clientes.drop('CLIENTNUM',axis=1)\r\n",
        "display(tabela_clientes)"
      ],
      "execution_count": null,
      "outputs": []
    },
    {
      "cell_type": "markdown",
      "metadata": {
        "id": "l-rjslnBvk5v"
      },
      "source": [
        "Passo 2: Tratamento da base de dados"
      ]
    },
    {
      "cell_type": "code",
      "metadata": {
        "id": "uHgzwbMUtVe6"
      },
      "source": [
        "tabela_clientes.info() #Descrição das colunas"
      ],
      "execution_count": null,
      "outputs": []
    },
    {
      "cell_type": "code",
      "metadata": {
        "id": "eXtMVb8-uNxN"
      },
      "source": [
        "tabela_clientes = tabela_clientes.dropna() #Exclui as linhas que tem items vazios"
      ],
      "execution_count": 17,
      "outputs": []
    },
    {
      "cell_type": "code",
      "metadata": {
        "id": "V1B5rY_0u3E0"
      },
      "source": [
        "tabela_clientes.describe() #Mostra um resumo dos dados"
      ],
      "execution_count": null,
      "outputs": []
    },
    {
      "cell_type": "markdown",
      "metadata": {
        "id": "NKp5cxqCv8yn"
      },
      "source": [
        "Passo 3: Analisar os dados\r\n",
        " - Queremos descobrir os motivos dos clientes CANCELAREM"
      ]
    },
    {
      "cell_type": "code",
      "metadata": {
        "id": "aS5clxthwAl6"
      },
      "source": [
        "tabela_clientes['Categoria'].value_counts()"
      ],
      "execution_count": null,
      "outputs": []
    },
    {
      "cell_type": "code",
      "metadata": {
        "id": "Cfo_wt7hv_4z"
      },
      "source": [
        "tabela_clientes['Categoria'].value_counts(normalize=True)"
      ],
      "execution_count": null,
      "outputs": []
    },
    {
      "cell_type": "markdown",
      "metadata": {
        "id": "Rii20MBgxWfe"
      },
      "source": [
        "Objetivo: Analisar o 80/20 - Regra de Pareto\r\n",
        "\r\n",
        "Descobrir os principais motivos que geram a maioria dos cancelamentos."
      ]
    },
    {
      "cell_type": "code",
      "metadata": {
        "id": "deF8P8tvx3CZ"
      },
      "source": [
        "import plotly.express as px"
      ],
      "execution_count": null,
      "outputs": []
    },
    {
      "cell_type": "code",
      "metadata": {
        "id": "j_Ahtfipx8xX"
      },
      "source": [
        "for coluna in tabela_clientes:\r\n",
        "  fig = px.histogram(tabela_clientes, x=coluna, color=\"Categoria\")\r\n",
        "  fig.show()"
      ],
      "execution_count": null,
      "outputs": []
    },
    {
      "cell_type": "markdown",
      "metadata": {
        "id": "P_MKP_Fz8Zuz"
      },
      "source": [
        "**Percepção analisando os gráficos?**\r\n",
        "\r\n",
        "1. Quase todos os clientes que cancelaram são do cartão Blue\r\n",
        "2. Quanto mais um cliente entra em contato comigo maior a chance dele cancelar\r\n",
        "\r\n",
        "3. Plano de ação \r\n",
        "  - Analisar o motivo do contato dos clientes que entram em contato com a empresa.\r\n",
        "  - Com mais de 80 transações o cliente não cancela o cartão.\r\n",
        "  - Com menos de 60 transações o cliente tem uma grande chance de cancelar. "
      ]
    }
  ]
}