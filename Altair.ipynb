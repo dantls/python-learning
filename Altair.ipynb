{
  "nbformat": 4,
  "nbformat_minor": 0,
  "metadata": {
    "colab": {
      "name": "Altair.ipynb",
      "provenance": [],
      "collapsed_sections": [],
      "toc_visible": true,
      "mount_file_id": "1IwrQWG9hrjsgodrq9oAHJsWOh7P4nK-7",
      "authorship_tag": "ABX9TyMQfHz4McA5BMya1FweMIIA",
      "include_colab_link": true
    },
    "kernelspec": {
      "name": "python3",
      "display_name": "Python 3"
    }
  },
  "cells": [
    {
      "cell_type": "markdown",
      "metadata": {
        "id": "view-in-github",
        "colab_type": "text"
      },
      "source": [
        "<a href=\"https://colab.research.google.com/github/dantls/python-learning/blob/main/Altair.ipynb\" target=\"_parent\"><img src=\"https://colab.research.google.com/assets/colab-badge.svg\" alt=\"Open In Colab\"/></a>"
      ]
    },
    {
      "cell_type": "code",
      "metadata": {
        "id": "1M__30r-UmXW"
      },
      "source": [
        "import pandas as pd\r\n",
        "import time\r\n",
        "import altair as alt\r\n",
        "from altair import Chart, Color, X, Y, Axis, SortField, OpacityValue\r\n",
        "\r\n",
        "print(altair.__file__)\r\n",
        "\r\n",
        "data = pd.read_excel('/content/drive/MyDrive/dados.xlsx')\r\n",
        "\r\n",
        "df_br = pd.DataFrame(data)\r\n",
        "\r\n",
        "df_br.reset_index()\r\n",
        "\r\n",
        "columns = ['Data de Fim da Consulta', 'Data de Início da Consulta', 'Link do Jogo','Turno','Estádio','Cidade' ]\r\n",
        "df_br = df_br.drop(columns, axis=1)\r\n",
        "\r\n",
        "df_mandante = df_br[(df_br['Série'] == 'A')][['Temporada', 'Mandante','Visitante','Gol Mandante','Gol Visitante','Série','Rodada','Resultado']]\r\n",
        "df_visitante = df_br[(df_br['Série'] == 'A')][['Temporada','Mandante','Visitante','Gol Mandante','Gol Visitante','Série','Rodada','Resultado']]\r\n",
        "\r\n",
        "def result(x, y):\r\n",
        "    if x < y: \r\n",
        "      return 0\r\n",
        "    elif x > y:\r\n",
        "      return 3\r\n",
        "    else:\r\n",
        "      return 1\r\n",
        "\r\n",
        "df_mandante['Resultado'] = df_mandante.apply(lambda row: result(row['Gol Mandante'], row['Gol Visitante']), axis=1)\r\n",
        "df_visitante['Resultado'] = df_visitante.apply(lambda row: result(row['Gol Visitante'], row['Gol Mandante']), axis=1)\r\n",
        "frames =[df_mandante ,df_visitante ]\r\n",
        "result = pd.concat(frames, keys=[\"Mandante\", \"Visitante\"])\r\n",
        "\r\n",
        "result = result.sort_index()\r\n",
        "result = result.reset_index()\r\n",
        "\r\n",
        "result.rename( {'level_0': 'Jogo', 'level_1': 'Nro'}, axis=1, inplace=True) \r\n",
        "\r\n",
        "def news(x):\r\n",
        "    if x['Jogo'] == 'Mandante':\r\n",
        "      return x['Mandante']\r\n",
        "    elif x['Jogo'] == 'Visitante': \r\n",
        "      return x['Visitante']\r\n",
        "\r\n",
        "result['Time'] = result.apply(lambda row: news(row) , axis=1)\r\n",
        "\r\n",
        "df_dados = result.loc[:][['Rodada','Temporada','Time','Resultado']].copy()\r\n",
        "\r\n",
        "df_dados.sort_values(by=['Rodada'] ,ascending=True , inplace=True)\r\n",
        "\r\n",
        "\r\n",
        "\r\n",
        "\r\n",
        "df_dados['Acumulado'] = df_dados.groupby(['Temporada','Time'])[['Time','Resultado']].cumsum()\r\n",
        "\r\n",
        "x = 2012\r\n",
        "\r\n",
        "df_dados = df_dados[df_dados['Temporada'] == x].reset_index(drop=True)\r\n",
        "\r\n",
        "\r\n",
        "bars = alt.Chart(df_dados).mark_bar().encode(\r\n",
        "    x=X('2:Q',axis=Axis(title='Brasileirao')),\r\n",
        "    y=Y('0:Q',axis=Axis(title='Times'))\r\n",
        "    ).properties(\r\n",
        "        width=650, \r\n",
        "        height=400\r\n",
        "    )\r\n"
      ],
      "execution_count": null,
      "outputs": []
    },
    {
      "cell_type": "code",
      "metadata": {
        "id": "t63jTDQ6VLMs"
      },
      "source": [
        "def plot_bar_animated_altair(df,week):\r\n",
        "    bars = alt.Chart(df, title=\"Ranking por Rodada :\"+week).encode(\r\n",
        "        x=X('Acumulado:Q',axis=Axis(title='Brasileirao')), \r\n",
        "        y=Y('Time:N',axis=Axis(title='Times'), sort='-x'),\r\n",
        "        color=alt.Color('Time:N'),\r\n",
        "        .properties(\r\n",
        "                    width=650, \r\n",
        "                    height=400\r\n",
        "        )\r\n",
        "    )"
      ],
      "execution_count": null,
      "outputs": []
    },
    {
      "cell_type": "code",
      "metadata": {
        "id": "SW6azNQbXAkb"
      },
      "source": [
        "    for week in range(1,39):\r\n",
        "        teste = str(week)\r\n",
        "        bars = plot_bar_animated_altair(df_dados[df_dados['Rodada']== week],teste)\r\n",
        "        time.sleep(0.01) \r\n",
        "        \r\n",
        "        bar_plot.altair_chart(bars)"
      ],
      "execution_count": null,
      "outputs": []
    }
  ]
}