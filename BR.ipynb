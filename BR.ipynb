{
  "nbformat": 4,
  "nbformat_minor": 0,
  "metadata": {
    "colab": {
      "name": "BR.ipynb",
      "provenance": [],
      "collapsed_sections": [],
      "mount_file_id": "1S7gmHMd8VdFkOB3_0WPeBWJ5h27eQP0L",
      "authorship_tag": "ABX9TyMfuuM6o3ZaF3xMUpR44YPO",
      "include_colab_link": true
    },
    "kernelspec": {
      "name": "python3",
      "display_name": "Python 3"
    }
  },
  "cells": [
    {
      "cell_type": "markdown",
      "metadata": {
        "id": "view-in-github",
        "colab_type": "text"
      },
      "source": [
        "<a href=\"https://colab.research.google.com/github/dantls/python-learning/blob/main/BR.ipynb\" target=\"_parent\"><img src=\"https://colab.research.google.com/assets/colab-badge.svg\" alt=\"Open In Colab\"/></a>"
      ]
    },
    {
      "cell_type": "markdown",
      "metadata": {
        "id": "WCOfPdFcWO0Y"
      },
      "source": [
        "##Carrega dados"
      ]
    },
    {
      "cell_type": "code",
      "metadata": {
        "id": "Q3kCNFHkWAil"
      },
      "source": [
        "import pandas as pd\r\n",
        "\r\n",
        "data = pd.read_excel('/content/drive/MyDrive/dados.xlsx')\r\n",
        "\r\n",
        "df_br = pd.DataFrame(data)\r\n"
      ],
      "execution_count": 5,
      "outputs": []
    },
    {
      "cell_type": "markdown",
      "metadata": {
        "id": "DObx5gj0Wbxv"
      },
      "source": [
        "## Seleciona colunas"
      ]
    },
    {
      "cell_type": "code",
      "metadata": {
        "id": "nvXhs5YSWgI3"
      },
      "source": [
        "df_br.reset_index()\r\n",
        "\r\n",
        "columns = ['Data de Fim da Consulta', 'Data de Início da Consulta', 'Link do Jogo','Turno','Estádio','Cidade' ]\r\n",
        "df_br = df_br.drop(columns, axis=1)\r\n",
        "\r\n",
        "df_mandante = df_br[(df_br['Série'] == 'A')][['Temporada', 'Mandante','Visitante','Gol Mandante','Gol Visitante','Série','Rodada','Resultado']]\r\n",
        "df_visitante = df_br[(df_br['Série'] == 'A')][['Temporada','Mandante','Visitante','Gol Mandante','Gol Visitante','Série','Rodada','Resultado']]\r\n",
        "\r\n"
      ],
      "execution_count": 6,
      "outputs": []
    },
    {
      "cell_type": "markdown",
      "metadata": {
        "id": "fhrvZxeZXJZE"
      },
      "source": [
        "## Calcula Resultado das partidas e Unindo os df"
      ]
    },
    {
      "cell_type": "code",
      "metadata": {
        "id": "vDF4nkwxW5sG"
      },
      "source": [
        "def result(x, y):\r\n",
        "    if x < y: \r\n",
        "      return 0\r\n",
        "    elif x > y:\r\n",
        "      return 3\r\n",
        "    else:\r\n",
        "      return 1\r\n",
        "\r\n",
        "df_mandante['Resultado'] = df_mandante.apply(lambda row: result(row['Gol Mandante'], row['Gol Visitante']), axis=1)\r\n",
        "df_visitante['Resultado'] = df_visitante.apply(lambda row: result(row['Gol Visitante'], row['Gol Mandante']), axis=1)\r\n",
        "frames =[df_mandante ,df_visitante ]\r\n",
        "result = pd.concat(frames, keys=[\"Mandante\", \"Visitante\"])\r\n"
      ],
      "execution_count": 7,
      "outputs": []
    },
    {
      "cell_type": "markdown",
      "metadata": {
        "id": "6rZeb9q6Xwsd"
      },
      "source": [
        "## Reseta o index"
      ]
    },
    {
      "cell_type": "code",
      "metadata": {
        "id": "bkzq9ZbCXgAr"
      },
      "source": [
        "result = result.sort_index()\r\n",
        "result = result.reset_index()\r\n"
      ],
      "execution_count": 8,
      "outputs": []
    },
    {
      "cell_type": "markdown",
      "metadata": {
        "id": "Qk7ttgo0X_F9"
      },
      "source": [
        "##Renomeio os index"
      ]
    },
    {
      "cell_type": "code",
      "metadata": {
        "id": "dzbZm1UUX-c1"
      },
      "source": [
        "result.rename( {'level_0': 'Jogo', 'level_1': 'Nro'}, axis=1, inplace=True)"
      ],
      "execution_count": 9,
      "outputs": []
    },
    {
      "cell_type": "markdown",
      "metadata": {
        "id": "mxOrHVMmYezu"
      },
      "source": [
        "##União dos dataframes"
      ]
    },
    {
      "cell_type": "code",
      "metadata": {
        "id": "CsHlFfKIOHMN"
      },
      "source": [
        "def news(x):\r\n",
        "    if x['Jogo'] == 'Mandante':\r\n",
        "      return x['Mandante']\r\n",
        "    elif x['Jogo'] == 'Visitante': \r\n",
        "      return x['Visitante']\r\n",
        "\r\n",
        "result['Time'] = result.apply(lambda row: news(row) , axis=1)"
      ],
      "execution_count": 10,
      "outputs": []
    },
    {
      "cell_type": "code",
      "metadata": {
        "id": "xowZu4AsPf9D"
      },
      "source": [
        "df_dados = result.loc[:][['Rodada','Temporada','Time','Resultado']].copy()"
      ],
      "execution_count": 11,
      "outputs": []
    },
    {
      "cell_type": "code",
      "metadata": {
        "colab": {
          "base_uri": "https://localhost:8080/",
          "height": 419
        },
        "id": "Xpwr0mnwZ1rd",
        "outputId": "9144c541-d77c-4423-df58-c6b9ec3343d5"
      },
      "source": [
        "df_dados"
      ],
      "execution_count": 12,
      "outputs": [
        {
          "output_type": "execute_result",
          "data": {
            "text/html": [
              "<div>\n",
              "<style scoped>\n",
              "    .dataframe tbody tr th:only-of-type {\n",
              "        vertical-align: middle;\n",
              "    }\n",
              "\n",
              "    .dataframe tbody tr th {\n",
              "        vertical-align: top;\n",
              "    }\n",
              "\n",
              "    .dataframe thead th {\n",
              "        text-align: right;\n",
              "    }\n",
              "</style>\n",
              "<table border=\"1\" class=\"dataframe\">\n",
              "  <thead>\n",
              "    <tr style=\"text-align: right;\">\n",
              "      <th></th>\n",
              "      <th>Rodada</th>\n",
              "      <th>Temporada</th>\n",
              "      <th>Time</th>\n",
              "      <th>Resultado</th>\n",
              "    </tr>\n",
              "  </thead>\n",
              "  <tbody>\n",
              "    <tr>\n",
              "      <th>0</th>\n",
              "      <td>1</td>\n",
              "      <td>2012</td>\n",
              "      <td>Vasco da Gama</td>\n",
              "      <td>3</td>\n",
              "    </tr>\n",
              "    <tr>\n",
              "      <th>1</th>\n",
              "      <td>1</td>\n",
              "      <td>2012</td>\n",
              "      <td>Bahia</td>\n",
              "      <td>1</td>\n",
              "    </tr>\n",
              "    <tr>\n",
              "      <th>2</th>\n",
              "      <td>1</td>\n",
              "      <td>2012</td>\n",
              "      <td>Palmeiras</td>\n",
              "      <td>1</td>\n",
              "    </tr>\n",
              "    <tr>\n",
              "      <th>3</th>\n",
              "      <td>1</td>\n",
              "      <td>2012</td>\n",
              "      <td>Figueirense</td>\n",
              "      <td>3</td>\n",
              "    </tr>\n",
              "    <tr>\n",
              "      <th>4</th>\n",
              "      <td>1</td>\n",
              "      <td>2012</td>\n",
              "      <td>Corinthians</td>\n",
              "      <td>0</td>\n",
              "    </tr>\n",
              "    <tr>\n",
              "      <th>...</th>\n",
              "      <td>...</td>\n",
              "      <td>...</td>\n",
              "      <td>...</td>\n",
              "      <td>...</td>\n",
              "    </tr>\n",
              "    <tr>\n",
              "      <th>6075</th>\n",
              "      <td>38</td>\n",
              "      <td>2019</td>\n",
              "      <td>Chapecoense</td>\n",
              "      <td>1</td>\n",
              "    </tr>\n",
              "    <tr>\n",
              "      <th>6076</th>\n",
              "      <td>38</td>\n",
              "      <td>2019</td>\n",
              "      <td>Ceara</td>\n",
              "      <td>1</td>\n",
              "    </tr>\n",
              "    <tr>\n",
              "      <th>6077</th>\n",
              "      <td>38</td>\n",
              "      <td>2019</td>\n",
              "      <td>Athletico Paranaense</td>\n",
              "      <td>1</td>\n",
              "    </tr>\n",
              "    <tr>\n",
              "      <th>6078</th>\n",
              "      <td>38</td>\n",
              "      <td>2019</td>\n",
              "      <td>Gremio</td>\n",
              "      <td>0</td>\n",
              "    </tr>\n",
              "    <tr>\n",
              "      <th>6079</th>\n",
              "      <td>38</td>\n",
              "      <td>2019</td>\n",
              "      <td>Sao Paulo</td>\n",
              "      <td>3</td>\n",
              "    </tr>\n",
              "  </tbody>\n",
              "</table>\n",
              "<p>6080 rows × 4 columns</p>\n",
              "</div>"
            ],
            "text/plain": [
              "      Rodada  Temporada                  Time  Resultado\n",
              "0          1       2012         Vasco da Gama          3\n",
              "1          1       2012                 Bahia          1\n",
              "2          1       2012             Palmeiras          1\n",
              "3          1       2012           Figueirense          3\n",
              "4          1       2012           Corinthians          0\n",
              "...      ...        ...                   ...        ...\n",
              "6075      38       2019           Chapecoense          1\n",
              "6076      38       2019                 Ceara          1\n",
              "6077      38       2019  Athletico Paranaense          1\n",
              "6078      38       2019                Gremio          0\n",
              "6079      38       2019             Sao Paulo          3\n",
              "\n",
              "[6080 rows x 4 columns]"
            ]
          },
          "metadata": {
            "tags": []
          },
          "execution_count": 12
        }
      ]
    },
    {
      "cell_type": "code",
      "metadata": {
        "colab": {
          "base_uri": "https://localhost:8080/",
          "height": 669
        },
        "id": "G8fkZrHsZCd2",
        "outputId": "e59ae167-6582-4d28-f0b2-e00b8d6208bf"
      },
      "source": [
        "df_dados[(df_dados['Rodada'] == 3)&(df_dados['Temporada'] == 2017)].sort_values(by=['Resultado'], ascending=False)\r\n"
      ],
      "execution_count": 13,
      "outputs": [
        {
          "output_type": "execute_result",
          "data": {
            "text/html": [
              "<div>\n",
              "<style scoped>\n",
              "    .dataframe tbody tr th:only-of-type {\n",
              "        vertical-align: middle;\n",
              "    }\n",
              "\n",
              "    .dataframe tbody tr th {\n",
              "        vertical-align: top;\n",
              "    }\n",
              "\n",
              "    .dataframe thead th {\n",
              "        text-align: right;\n",
              "    }\n",
              "</style>\n",
              "<table border=\"1\" class=\"dataframe\">\n",
              "  <thead>\n",
              "    <tr style=\"text-align: right;\">\n",
              "      <th></th>\n",
              "      <th>Rodada</th>\n",
              "      <th>Temporada</th>\n",
              "      <th>Time</th>\n",
              "      <th>Resultado</th>\n",
              "    </tr>\n",
              "  </thead>\n",
              "  <tbody>\n",
              "    <tr>\n",
              "      <th>1920</th>\n",
              "      <td>3</td>\n",
              "      <td>2017</td>\n",
              "      <td>Botafogo-RJ</td>\n",
              "      <td>3</td>\n",
              "    </tr>\n",
              "    <tr>\n",
              "      <th>4968</th>\n",
              "      <td>3</td>\n",
              "      <td>2017</td>\n",
              "      <td>Corinthians</td>\n",
              "      <td>3</td>\n",
              "    </tr>\n",
              "    <tr>\n",
              "      <th>1923</th>\n",
              "      <td>3</td>\n",
              "      <td>2017</td>\n",
              "      <td>Sao Paulo</td>\n",
              "      <td>3</td>\n",
              "    </tr>\n",
              "    <tr>\n",
              "      <th>1926</th>\n",
              "      <td>3</td>\n",
              "      <td>2017</td>\n",
              "      <td>Sport</td>\n",
              "      <td>3</td>\n",
              "    </tr>\n",
              "    <tr>\n",
              "      <th>4967</th>\n",
              "      <td>3</td>\n",
              "      <td>2017</td>\n",
              "      <td>Coritiba</td>\n",
              "      <td>3</td>\n",
              "    </tr>\n",
              "    <tr>\n",
              "      <th>1929</th>\n",
              "      <td>3</td>\n",
              "      <td>2017</td>\n",
              "      <td>Chapecoense</td>\n",
              "      <td>3</td>\n",
              "    </tr>\n",
              "    <tr>\n",
              "      <th>1921</th>\n",
              "      <td>3</td>\n",
              "      <td>2017</td>\n",
              "      <td>Vasco da Gama</td>\n",
              "      <td>3</td>\n",
              "    </tr>\n",
              "    <tr>\n",
              "      <th>4962</th>\n",
              "      <td>3</td>\n",
              "      <td>2017</td>\n",
              "      <td>Cruzeiro</td>\n",
              "      <td>3</td>\n",
              "    </tr>\n",
              "    <tr>\n",
              "      <th>4964</th>\n",
              "      <td>3</td>\n",
              "      <td>2017</td>\n",
              "      <td>Ponte Preta</td>\n",
              "      <td>1</td>\n",
              "    </tr>\n",
              "    <tr>\n",
              "      <th>1924</th>\n",
              "      <td>3</td>\n",
              "      <td>2017</td>\n",
              "      <td>Atletico-MG</td>\n",
              "      <td>1</td>\n",
              "    </tr>\n",
              "    <tr>\n",
              "      <th>1925</th>\n",
              "      <td>3</td>\n",
              "      <td>2017</td>\n",
              "      <td>Athletico Paranaense</td>\n",
              "      <td>1</td>\n",
              "    </tr>\n",
              "    <tr>\n",
              "      <th>4965</th>\n",
              "      <td>3</td>\n",
              "      <td>2017</td>\n",
              "      <td>Flamengo</td>\n",
              "      <td>1</td>\n",
              "    </tr>\n",
              "    <tr>\n",
              "      <th>4966</th>\n",
              "      <td>3</td>\n",
              "      <td>2017</td>\n",
              "      <td>Gremio</td>\n",
              "      <td>0</td>\n",
              "    </tr>\n",
              "    <tr>\n",
              "      <th>4960</th>\n",
              "      <td>3</td>\n",
              "      <td>2017</td>\n",
              "      <td>Bahia</td>\n",
              "      <td>0</td>\n",
              "    </tr>\n",
              "    <tr>\n",
              "      <th>4963</th>\n",
              "      <td>3</td>\n",
              "      <td>2017</td>\n",
              "      <td>Palmeiras</td>\n",
              "      <td>0</td>\n",
              "    </tr>\n",
              "    <tr>\n",
              "      <th>4961</th>\n",
              "      <td>3</td>\n",
              "      <td>2017</td>\n",
              "      <td>Fluminense</td>\n",
              "      <td>0</td>\n",
              "    </tr>\n",
              "    <tr>\n",
              "      <th>1928</th>\n",
              "      <td>3</td>\n",
              "      <td>2017</td>\n",
              "      <td>Atletico-GO</td>\n",
              "      <td>0</td>\n",
              "    </tr>\n",
              "    <tr>\n",
              "      <th>1927</th>\n",
              "      <td>3</td>\n",
              "      <td>2017</td>\n",
              "      <td>Vitoria</td>\n",
              "      <td>0</td>\n",
              "    </tr>\n",
              "    <tr>\n",
              "      <th>1922</th>\n",
              "      <td>3</td>\n",
              "      <td>2017</td>\n",
              "      <td>Santos</td>\n",
              "      <td>0</td>\n",
              "    </tr>\n",
              "    <tr>\n",
              "      <th>4969</th>\n",
              "      <td>3</td>\n",
              "      <td>2017</td>\n",
              "      <td>Avai</td>\n",
              "      <td>0</td>\n",
              "    </tr>\n",
              "  </tbody>\n",
              "</table>\n",
              "</div>"
            ],
            "text/plain": [
              "      Rodada  Temporada                  Time  Resultado\n",
              "1920       3       2017           Botafogo-RJ          3\n",
              "4968       3       2017           Corinthians          3\n",
              "1923       3       2017             Sao Paulo          3\n",
              "1926       3       2017                 Sport          3\n",
              "4967       3       2017              Coritiba          3\n",
              "1929       3       2017           Chapecoense          3\n",
              "1921       3       2017         Vasco da Gama          3\n",
              "4962       3       2017              Cruzeiro          3\n",
              "4964       3       2017           Ponte Preta          1\n",
              "1924       3       2017           Atletico-MG          1\n",
              "1925       3       2017  Athletico Paranaense          1\n",
              "4965       3       2017              Flamengo          1\n",
              "4966       3       2017                Gremio          0\n",
              "4960       3       2017                 Bahia          0\n",
              "4963       3       2017             Palmeiras          0\n",
              "4961       3       2017            Fluminense          0\n",
              "1928       3       2017           Atletico-GO          0\n",
              "1927       3       2017               Vitoria          0\n",
              "1922       3       2017                Santos          0\n",
              "4969       3       2017                  Avai          0"
            ]
          },
          "metadata": {
            "tags": []
          },
          "execution_count": 13
        }
      ]
    }
  ]
}