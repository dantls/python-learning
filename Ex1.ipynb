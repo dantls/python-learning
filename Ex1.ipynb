{
  "nbformat": 4,
  "nbformat_minor": 0,
  "metadata": {
    "colab": {
      "name": "N3.ipynb",
      "provenance": [],
      "collapsed_sections": [],
      "toc_visible": true,
      "include_colab_link": true
    },
    "kernelspec": {
      "display_name": "Python 3",
      "name": "python3"
    }
  },
  "cells": [
    {
      "cell_type": "markdown",
      "metadata": {
        "id": "view-in-github",
        "colab_type": "text"
      },
      "source": [
        "<a href=\"https://colab.research.google.com/github/dantls/python-learning/blob/main/Ex1.ipynb\" target=\"_parent\"><img src=\"https://colab.research.google.com/assets/colab-badge.svg\" alt=\"Open In Colab\"/></a>"
      ]
    },
    {
      "cell_type": "markdown",
      "metadata": {
        "id": "JA8LpHZCWu_V"
      },
      "source": [
        "Importamos as bibliotecas necessárias"
      ]
    },
    {
      "cell_type": "code",
      "metadata": {
        "id": "zvoMsmpnprNi"
      },
      "source": [
        "import pandas as pd\r\n",
        "import matplotlib.pyplot as plt\r\n",
        "import numpy as np\r\n",
        "from sklearn.linear_model import Perceptron\r\n",
        "from sklearn.metrics import mean_absolute_error\r\n"
      ],
      "execution_count": null,
      "outputs": []
    },
    {
      "cell_type": "markdown",
      "metadata": {
        "id": "EjfHLkU4W5J6"
      },
      "source": [
        "Carregamos a base de dados do Bitcoin com valores diários em dolar"
      ]
    },
    {
      "cell_type": "code",
      "metadata": {
        "id": "aymOWsqdpxr8"
      },
      "source": [
        "observacoes = pd.read_csv('/content/drive/MyDrive/observ.csv', sep=';')\r\n"
      ],
      "execution_count": null,
      "outputs": []
    },
    {
      "cell_type": "markdown",
      "metadata": {
        "id": "4o-59HXoW_9G"
      },
      "source": [
        "Verificamos se a importação da tabela ocorreu como esperado"
      ]
    },
    {
      "cell_type": "code",
      "metadata": {
        "id": "jOXq7vw1tTrV"
      },
      "source": [
        "observacoes"
      ],
      "execution_count": null,
      "outputs": []
    },
    {
      "cell_type": "markdown",
      "metadata": {
        "id": "Dz_8U0KTXD69"
      },
      "source": [
        "Carregamos o array apenas com os valores de fechamento diário para manipulação e predição\n"
      ]
    },
    {
      "cell_type": "code",
      "metadata": {
        "id": "FRCjNnFTp8xQ"
      },
      "source": [
        "observacoes = np.array(observacoes[\"Fechamento\"])\r\n"
      ],
      "execution_count": null,
      "outputs": []
    },
    {
      "cell_type": "code",
      "metadata": {
        "id": "re1xjcjr5Q18"
      },
      "source": [
        "observacoes"
      ],
      "execution_count": null,
      "outputs": []
    },
    {
      "cell_type": "markdown",
      "metadata": {
        "id": "HR9NJxNYXPEn"
      },
      "source": [
        "Definimos os dados e a janela a serem observados"
      ]
    },
    {
      "cell_type": "code",
      "metadata": {
        "id": "zDMEnxhRqOYc"
      },
      "source": [
        "dados = []\r\n",
        "x_treino = []\r\n",
        "x_test = []\r\n",
        "y = []\r\n",
        "tam_janela = 5"
      ],
      "execution_count": null,
      "outputs": []
    },
    {
      "cell_type": "code",
      "metadata": {
        "id": "IhX-ReREs__7"
      },
      "source": [
        "observacoes"
      ],
      "execution_count": null,
      "outputs": []
    },
    {
      "cell_type": "markdown",
      "metadata": {
        "id": "atZa2lqGXj8V"
      },
      "source": [
        "Criamos o os dados \"shiftados\" com o tamanho da janela definida"
      ]
    },
    {
      "cell_type": "code",
      "metadata": {
        "id": "tf9QeGcUqf39"
      },
      "source": [
        "for i in range(0,len(observacoes)-tam_janela): \r\n",
        "   dados.append(observacoes[i:tam_janela+i])\r\n",
        "   y.append(observacoes[tam_janela+i])"
      ],
      "execution_count": null,
      "outputs": []
    },
    {
      "cell_type": "code",
      "metadata": {
        "id": "XfpDsp-jB39a"
      },
      "source": [
        "dados"
      ],
      "execution_count": null,
      "outputs": []
    },
    {
      "cell_type": "code",
      "metadata": {
        "id": "niELHcuqB8u6"
      },
      "source": [
        "y"
      ],
      "execution_count": null,
      "outputs": []
    },
    {
      "cell_type": "code",
      "metadata": {
        "id": "l1_ze-GlCFw3"
      },
      "source": [
        "dados = np.array(dados)\r\n",
        "y = np.array(y)"
      ],
      "execution_count": null,
      "outputs": []
    },
    {
      "cell_type": "markdown",
      "metadata": {
        "id": "l0aKuIhEXu5t"
      },
      "source": [
        ""
      ]
    },
    {
      "cell_type": "code",
      "metadata": {
        "id": "RcWX-1IuI_uq"
      },
      "source": [
        "x_treino = dados[:len(dados)-tam_janela]\r\n",
        "y_treino = y[:len(dados)-tam_janela]                 \r\n",
        "x_test = dados[len(dados)-tam_janela:]\r\n",
        "y_test = y[len(dados)-tam_janela:]\r\n",
        "\r\n"
      ],
      "execution_count": null,
      "outputs": []
    },
    {
      "cell_type": "code",
      "metadata": {
        "id": "lXcekr8lQ_a9"
      },
      "source": [
        "x_treino\r\n"
      ],
      "execution_count": null,
      "outputs": []
    },
    {
      "cell_type": "code",
      "metadata": {
        "id": "4znIjfYARHMJ"
      },
      "source": [
        "y_treino"
      ],
      "execution_count": null,
      "outputs": []
    },
    {
      "cell_type": "code",
      "metadata": {
        "id": "CQmlGnBlCZMw"
      },
      "source": [
        "perceptron = Perceptron(alpha=0.01)"
      ],
      "execution_count": null,
      "outputs": []
    },
    {
      "cell_type": "markdown",
      "metadata": {
        "id": "OhCd_jEuXy-J"
      },
      "source": [
        "Treinamos o perceptron"
      ]
    },
    {
      "cell_type": "code",
      "metadata": {
        "id": "M5qleWTXSr9t"
      },
      "source": [
        "perceptron.fit(x_treino, y=y_treino.astype('int'))"
      ],
      "execution_count": null,
      "outputs": []
    },
    {
      "cell_type": "code",
      "metadata": {
        "id": "knIwcn2xTK7N"
      },
      "source": [
        "perceptron.predict(x_test)"
      ],
      "execution_count": null,
      "outputs": []
    },
    {
      "cell_type": "code",
      "metadata": {
        "id": "H2zHTGB5Ts51"
      },
      "source": [
        "x_test"
      ],
      "execution_count": null,
      "outputs": []
    },
    {
      "cell_type": "code",
      "metadata": {
        "id": "_fN8z4WST3RE"
      },
      "source": [
        "y_test"
      ],
      "execution_count": null,
      "outputs": []
    },
    {
      "cell_type": "markdown",
      "metadata": {
        "id": "6gVg-GWGX2vY"
      },
      "source": [
        "Verificamos o erro medio absoluto"
      ]
    },
    {
      "cell_type": "code",
      "metadata": {
        "id": "nio182fVWCAD"
      },
      "source": [
        "mean_absolute_error(y_test, perceptron.predict(x_test))"
      ],
      "execution_count": null,
      "outputs": []
    },
    {
      "cell_type": "markdown",
      "metadata": {
        "id": "lGZnvcxmX6ao"
      },
      "source": [
        "Como ignoramos o indice diário, criamos um novo indice do eixo X para plotar os gráficos, de acordo com a quantidade de dados que observaremos."
      ]
    },
    {
      "cell_type": "code",
      "metadata": {
        "id": "PGZSIFyuCR5E"
      },
      "source": [
        "x=np.array(range(len(dados)-tam_janela))\r\n",
        "for i in range(0,len(dados)-tam_janela):\r\n",
        "   x[i] = i\r\n"
      ],
      "execution_count": null,
      "outputs": []
    },
    {
      "cell_type": "markdown",
      "metadata": {
        "id": "ZFvC1BLGYD0r"
      },
      "source": [
        "Plotamos o grafico com os valores esperados.\n",
        "\n"
      ]
    },
    {
      "cell_type": "code",
      "metadata": {
        "id": "GBh1i9MrzoFx"
      },
      "source": [
        "plt.figure(figsize=[15,6])\r\n",
        "plt.plot(x, result)"
      ],
      "execution_count": null,
      "outputs": []
    },
    {
      "cell_type": "markdown",
      "metadata": {
        "id": "gy1kxts8YeE0"
      },
      "source": [
        "Sobrepomos os graficos dos valores reais e preditos."
      ]
    },
    {
      "cell_type": "code",
      "metadata": {
        "id": "WFoZaHmF1aZI"
      },
      "source": [
        "fig, ax1 = plt.subplots()\n",
        "\n",
        "color = 'tab:red'\n",
        "ax1.set_xlabel('Dias')\n",
        "ax1.set_ylabel('Real', color=color)\n",
        "ax1.plot(x, x_treino, color=color)\n",
        "ax1.tick_params(axis='y', labelcolor=color)\n",
        "\n",
        "ax2 = ax1.twinx()  # instantiate a second axes that shares the same x-axis\n",
        "\n",
        "color = 'tab:blue'\n",
        "ax2.set_ylabel('Predito', color=color)  # we already handled the x-label with ax1\n",
        "ax2.plot(x, y_treino, color=color)\n",
        "ax2.tick_params(axis='y', labelcolor=color)\n",
        "\n",
        "fig.tight_layout()  # otherwise the right y-label is slightly clipped\n",
        "plt.show()"
      ],
      "execution_count": null,
      "outputs": []
    },
    {
      "cell_type": "code",
      "metadata": {
        "id": "1SbXtx08aJ3z"
      },
      "source": [
        "fig, ax1 = plt.subplots()\r\n",
        "\r\n",
        "color = 'tab:red'\r\n",
        "ax1.set_xlabel('Dias')\r\n",
        "ax1.set_ylabel('Real', color=color)\r\n",
        "ax1.plot(x[:5], x_treino[:1][:5], color=color)\r\n",
        "ax1.tick_params(axis='y', labelcolor=color)\r\n",
        "\r\n",
        "ax2 = ax1.twinx()  # instantiate a second axes that shares the same x-axis\r\n",
        "\r\n",
        "color = 'tab:blue'\r\n",
        "ax2.set_ylabel('Predito', color=color)  # we already handled the x-label with ax1\r\n",
        "ax2.plot(x[:5], result, color=color)\r\n",
        "ax2.tick_params(axis='y', labelcolor=color)\r\n",
        "\r\n",
        "fig.tight_layout()  # otherwise the right y-label is slightly clipped\r\n",
        "plt.show()\r\n"
      ],
      "execution_count": null,
      "outputs": []
    },
    {
      "cell_type": "code",
      "metadata": {
        "id": "AH3IqhWNaUGc"
      },
      "source": [
        "dados[:5]"
      ],
      "execution_count": null,
      "outputs": []
    }
  ]
}