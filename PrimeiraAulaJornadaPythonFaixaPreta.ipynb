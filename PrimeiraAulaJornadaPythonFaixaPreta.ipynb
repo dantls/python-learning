{
  "nbformat": 4,
  "nbformat_minor": 0,
  "metadata": {
    "colab": {
      "name": "PrimeiraAulaJornadaPythonFaixaPreta.ipynb",
      "provenance": [],
      "toc_visible": true,
      "authorship_tag": "ABX9TyNsHF/6D9ITiGS3R9lrsQ58",
      "include_colab_link": true
    },
    "kernelspec": {
      "name": "python3",
      "display_name": "Python 3"
    }
  },
  "cells": [
    {
      "cell_type": "markdown",
      "metadata": {
        "id": "view-in-github",
        "colab_type": "text"
      },
      "source": [
        "<a href=\"https://colab.research.google.com/github/dantls/python-learning/blob/main/PrimeiraAulaJornadaPythonFaixaPreta.ipynb\" target=\"_parent\"><img src=\"https://colab.research.google.com/assets/colab-badge.svg\" alt=\"Open In Colab\"/></a>"
      ]
    },
    {
      "cell_type": "code",
      "metadata": {
        "id": "msxrlPSkUTiv"
      },
      "source": [
        ""
      ],
      "execution_count": null,
      "outputs": []
    },
    {
      "cell_type": "markdown",
      "metadata": {
        "id": "HMVhACSFURVj"
      },
      "source": [
        "# Calculadora"
      ]
    },
    {
      "cell_type": "markdown",
      "metadata": {
        "id": "V7xRgScTUWb-"
      },
      "source": [
        "## Entrada de dados"
      ]
    },
    {
      "cell_type": "code",
      "metadata": {
        "colab": {
          "base_uri": "https://localhost:8080/"
        },
        "id": "a9_1q3nLRsYt",
        "outputId": "b19f6b7b-c53e-4586-8265-13658c32e0bf"
      },
      "source": [
        "\r\n",
        "first_number = int(input(\"Digite o primeiro valor: \"))\r\n",
        "second_number = int(input(\"Digite o segundo valor: \"))\r\n",
        "\r\n",
        "\r\n",
        "addition = first_number + second_number\r\n",
        "subtraction = first_number - second_number\r\n",
        "division = first_number / second_number\r\n",
        "multiplication = first_number * second_number\r\n",
        "\r\n",
        "\r\n",
        "print('O resultado da soma: ', addition)\r\n",
        "print('O resultado da subtração: ', subtraction)\r\n",
        "print('O resultado da multiplicacao: ', multiplication)\r\n",
        "print('O resultado da divisao: ', division)\r\n",
        "\r\n",
        "print(f'O resultado da divisao: {division}')\r\n"
      ],
      "execution_count": 4,
      "outputs": [
        {
          "output_type": "stream",
          "text": [
            "Digite o primeiro valor: 10\n",
            "Digite o segundo valor: 5\n",
            "O resultado da soma:  15\n",
            "O resultado da subtração:  5\n",
            "O resultado da multiplicacao:  50\n",
            "O resultado da divisao:  2.0\n",
            "O resultado da divisao: 2.0\n"
          ],
          "name": "stdout"
        }
      ]
    },
    {
      "cell_type": "markdown",
      "metadata": {
        "id": "9EJg4OVqVIX5"
      },
      "source": [
        "# Listas"
      ]
    },
    {
      "cell_type": "code",
      "metadata": {
        "id": "YKZOqX_iVMUT"
      },
      "source": [
        "animais = ['cachorro','Gato','Coelho','Furão']"
      ],
      "execution_count": 5,
      "outputs": []
    },
    {
      "cell_type": "code",
      "metadata": {
        "colab": {
          "base_uri": "https://localhost:8080/"
        },
        "id": "C_SvnOQXVeUw",
        "outputId": "011c3e1a-4f52-4452-a012-cdfcad1d55e8"
      },
      "source": [
        "animais"
      ],
      "execution_count": 6,
      "outputs": [
        {
          "output_type": "execute_result",
          "data": {
            "text/plain": [
              "['cachorro', 'Gato', 'Coelho', 'Furão']"
            ]
          },
          "metadata": {
            "tags": []
          },
          "execution_count": 6
        }
      ]
    },
    {
      "cell_type": "code",
      "metadata": {
        "colab": {
          "base_uri": "https://localhost:8080/",
          "height": 35
        },
        "id": "admznQ4tVfeL",
        "outputId": "26ffa2e1-4abd-4907-8241-629703231eaa"
      },
      "source": [
        "animais[3]"
      ],
      "execution_count": 7,
      "outputs": [
        {
          "output_type": "execute_result",
          "data": {
            "application/vnd.google.colaboratory.intrinsic+json": {
              "type": "string"
            },
            "text/plain": [
              "'Furão'"
            ]
          },
          "metadata": {
            "tags": []
          },
          "execution_count": 7
        }
      ]
    },
    {
      "cell_type": "code",
      "metadata": {
        "id": "TLAuAdV9ViFl"
      },
      "source": [
        "furao = animais[3]"
      ],
      "execution_count": 8,
      "outputs": []
    },
    {
      "cell_type": "code",
      "metadata": {
        "colab": {
          "base_uri": "https://localhost:8080/",
          "height": 35
        },
        "id": "bZHXcKcKVs8b",
        "outputId": "18462de5-fd75-43a3-fc13-cb05742293b8"
      },
      "source": [
        "furao"
      ],
      "execution_count": 9,
      "outputs": [
        {
          "output_type": "execute_result",
          "data": {
            "application/vnd.google.colaboratory.intrinsic+json": {
              "type": "string"
            },
            "text/plain": [
              "'Furão'"
            ]
          },
          "metadata": {
            "tags": []
          },
          "execution_count": 9
        }
      ]
    },
    {
      "cell_type": "code",
      "metadata": {
        "id": "ovXQM0ZBVuAk"
      },
      "source": [
        "lista_de_lista = [[1,2], [3,4], [5,6]]"
      ],
      "execution_count": 10,
      "outputs": []
    },
    {
      "cell_type": "code",
      "metadata": {
        "id": "FwHnJW0uWHy7"
      },
      "source": [
        "lista1=lista_de_lista[0]"
      ],
      "execution_count": 11,
      "outputs": []
    },
    {
      "cell_type": "code",
      "metadata": {
        "colab": {
          "base_uri": "https://localhost:8080/"
        },
        "id": "Og6apjm1WK5M",
        "outputId": "cbd58c62-0403-4721-cd5d-2e526ec7aa81"
      },
      "source": [
        "lista1"
      ],
      "execution_count": 12,
      "outputs": [
        {
          "output_type": "execute_result",
          "data": {
            "text/plain": [
              "[1, 2]"
            ]
          },
          "metadata": {
            "tags": []
          },
          "execution_count": 12
        }
      ]
    },
    {
      "cell_type": "code",
      "metadata": {
        "colab": {
          "base_uri": "https://localhost:8080/"
        },
        "id": "wbd_1cISWLj8",
        "outputId": "72521c6d-fff6-4a29-9c6a-f790b3428ae2"
      },
      "source": [
        "print(lista_de_lista[0][0:2])"
      ],
      "execution_count": 20,
      "outputs": [
        {
          "output_type": "stream",
          "text": [
            "[1, 2]\n"
          ],
          "name": "stdout"
        }
      ]
    },
    {
      "cell_type": "code",
      "metadata": {
        "id": "8uQS8CYDWaD8"
      },
      "source": [
        "lista_vazia = []"
      ],
      "execution_count": 21,
      "outputs": []
    },
    {
      "cell_type": "code",
      "metadata": {
        "id": "c5utP6uoZUCg"
      },
      "source": [
        "lista_vazia.append('Danilo')"
      ],
      "execution_count": 23,
      "outputs": []
    },
    {
      "cell_type": "code",
      "metadata": {
        "id": "OLIXrWtKZYmx"
      },
      "source": [
        "lista_vazia.append(24)"
      ],
      "execution_count": 24,
      "outputs": []
    },
    {
      "cell_type": "code",
      "metadata": {
        "colab": {
          "base_uri": "https://localhost:8080/"
        },
        "id": "ibnjeGDWZi0i",
        "outputId": "b01cefb9-bc23-4be5-84ba-26dbf3bb688e"
      },
      "source": [
        "lista_vazia"
      ],
      "execution_count": 25,
      "outputs": [
        {
          "output_type": "execute_result",
          "data": {
            "text/plain": [
              "['Danilo', 24]"
            ]
          },
          "metadata": {
            "tags": []
          },
          "execution_count": 25
        }
      ]
    },
    {
      "cell_type": "code",
      "metadata": {
        "id": "iiQVMDaXZpci"
      },
      "source": [
        ""
      ],
      "execution_count": null,
      "outputs": []
    }
  ]
}