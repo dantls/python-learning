{
  "nbformat": 4,
  "nbformat_minor": 0,
  "metadata": {
    "colab": {
      "name": "ArchivePython.ipynb",
      "provenance": [],
      "collapsed_sections": [],
      "authorship_tag": "ABX9TyMjJWHUB4qftpdG1cHv6E6s",
      "include_colab_link": true
    },
    "kernelspec": {
      "name": "python3",
      "display_name": "Python 3"
    }
  },
  "cells": [
    {
      "cell_type": "markdown",
      "metadata": {
        "id": "view-in-github",
        "colab_type": "text"
      },
      "source": [
        "<a href=\"https://colab.research.google.com/github/dantls/python-learning/blob/main/ArchivePython.ipynb\" target=\"_parent\"><img src=\"https://colab.research.google.com/assets/colab-badge.svg\" alt=\"Open In Colab\"/></a>"
      ]
    },
    {
      "cell_type": "markdown",
      "metadata": {
        "id": "MkYBJbcMK3Td"
      },
      "source": [
        "# Leitura de Arquivos"
      ]
    },
    {
      "cell_type": "markdown",
      "metadata": {
        "id": "8QX_8TpTL33A"
      },
      "source": [
        "## Leitura com A"
      ]
    },
    {
      "cell_type": "markdown",
      "metadata": {
        "id": "XAvenrT7MTfS"
      },
      "source": [
        "Quando passamos o parâmetro \"A\" significa append, sendo assim todas as vezes que chamamos o texto é inserido no arquivo."
      ]
    },
    {
      "cell_type": "code",
      "metadata": {
        "id": "BrUMwdpMK6Hl"
      },
      "source": [
        "arquivoA = open(\"arquivoA.txt\", \"a\")\r\n",
        "\r\n",
        "arquivoA.write(\"Inserindo texto com A\\n\")\r\n",
        "\r\n",
        "arquivoA.close()"
      ],
      "execution_count": 9,
      "outputs": []
    },
    {
      "cell_type": "markdown",
      "metadata": {
        "id": "FxZl34YMNB6t"
      },
      "source": [
        "## Leitura com W"
      ]
    },
    {
      "cell_type": "markdown",
      "metadata": {
        "id": "SirlNQRNNB6t"
      },
      "source": [
        "Quando passamos o parâmetro \"W\" significa write, sendo assim todas o arquivo é criado sempre que chamado."
      ]
    },
    {
      "cell_type": "code",
      "metadata": {
        "id": "lKoG9MJvNB68"
      },
      "source": [
        "arquivoW = open(\"arquivoW.txt\", \"w\")\r\n",
        "\r\n",
        "arquivoW.write(\"Inserindo texto com W\")\r\n",
        "\r\n",
        "arquivoW.close()"
      ],
      "execution_count": 8,
      "outputs": []
    },
    {
      "cell_type": "markdown",
      "metadata": {
        "id": "KnOPcBpmMw7U"
      },
      "source": [
        "## Leitura com With"
      ]
    },
    {
      "cell_type": "markdown",
      "metadata": {
        "id": "ZmbDCHhaMi4q"
      },
      "source": [
        "Uma maneira mais eficiênte e menos verbosa de se trabalhar com arquivos, o arquivo é manipulado utilizando a clausula with sendo assim não existe a necessidade do fechamento do arquivo."
      ]
    },
    {
      "cell_type": "code",
      "metadata": {
        "id": "Ry3OmxRUMNU_"
      },
      "source": [
        "with open(\"ArquivoWith.txt\", \"a\") as arquivoWith:\r\n",
        "  arquivoWith.write(\"Inserindo texto com With\\n\")"
      ],
      "execution_count": 14,
      "outputs": []
    }
  ]
}