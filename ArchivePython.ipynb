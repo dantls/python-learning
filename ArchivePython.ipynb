{
  "nbformat": 4,
  "nbformat_minor": 0,
  "metadata": {
    "colab": {
      "name": "ArchivePython.ipynb",
      "provenance": [],
      "collapsed_sections": [],
      "authorship_tag": "ABX9TyNYjQrX+HYfKa+SsUhQFXAB",
      "include_colab_link": true
    },
    "kernelspec": {
      "name": "python3",
      "display_name": "Python 3"
    }
  },
  "cells": [
    {
      "cell_type": "markdown",
      "metadata": {
        "id": "view-in-github",
        "colab_type": "text"
      },
      "source": [
        "<a href=\"https://colab.research.google.com/github/dantls/python-learning/blob/main/ArchivePython.ipynb\" target=\"_parent\"><img src=\"https://colab.research.google.com/assets/colab-badge.svg\" alt=\"Open In Colab\"/></a>"
      ]
    },
    {
      "cell_type": "markdown",
      "metadata": {
        "id": "MkYBJbcMK3Td"
      },
      "source": [
        "# Escrita em Arquivos"
      ]
    },
    {
      "cell_type": "markdown",
      "metadata": {
        "id": "8QX_8TpTL33A"
      },
      "source": [
        "## Escrita com A"
      ]
    },
    {
      "cell_type": "markdown",
      "metadata": {
        "id": "XAvenrT7MTfS"
      },
      "source": [
        "Quando passamos o parâmetro \"A\" significa append, sendo assim todas as vezes que chamamos o texto é inserido no arquivo."
      ]
    },
    {
      "cell_type": "code",
      "metadata": {
        "id": "BrUMwdpMK6Hl"
      },
      "source": [
        "arquivoA = open(\"arquivoA.txt\", \"a\")\r\n",
        "\r\n",
        "arquivoA.write(\"Inserindo texto com A\\n\")\r\n",
        "\r\n",
        "arquivoA.close()"
      ],
      "execution_count": 9,
      "outputs": []
    },
    {
      "cell_type": "markdown",
      "metadata": {
        "id": "FxZl34YMNB6t"
      },
      "source": [
        "## Escrita com W"
      ]
    },
    {
      "cell_type": "markdown",
      "metadata": {
        "id": "SirlNQRNNB6t"
      },
      "source": [
        "Quando passamos o parâmetro \"W\" significa write, sendo assim todas o arquivo é criado sempre que chamado."
      ]
    },
    {
      "cell_type": "code",
      "metadata": {
        "id": "lKoG9MJvNB68"
      },
      "source": [
        "arquivoW = open(\"arquivoW.txt\", \"w\")\r\n",
        "\r\n",
        "arquivoW.write(\"Inserindo texto com W\")\r\n",
        "\r\n",
        "arquivoW.close()"
      ],
      "execution_count": 8,
      "outputs": []
    },
    {
      "cell_type": "markdown",
      "metadata": {
        "id": "KnOPcBpmMw7U"
      },
      "source": [
        "## Escrita com With"
      ]
    },
    {
      "cell_type": "markdown",
      "metadata": {
        "id": "ZmbDCHhaMi4q"
      },
      "source": [
        "Uma maneira mais eficiênte e menos verbosa de se trabalhar com arquivos, o arquivo é manipulado utilizando a clausula with sendo assim não existe a necessidade do fechamento do arquivo."
      ]
    },
    {
      "cell_type": "code",
      "metadata": {
        "id": "Ry3OmxRUMNU_"
      },
      "source": [
        "with open(\"ArquivoWith.txt\", \"a\") as arquivoWith:\r\n",
        "  arquivoWith.write(\"Inserindo texto com With\\n\")"
      ],
      "execution_count": 25,
      "outputs": []
    },
    {
      "cell_type": "markdown",
      "metadata": {
        "id": "ngwj8ITF_tXl"
      },
      "source": [
        "# Leitura de Arquivos"
      ]
    },
    {
      "cell_type": "markdown",
      "metadata": {
        "id": "-dlH-8fG_tX_"
      },
      "source": [
        "## Leitura com With"
      ]
    },
    {
      "cell_type": "markdown",
      "metadata": {
        "id": "6ydmypsH_tX_"
      },
      "source": [
        "Maneira para ler o conteúdo total do arquivo."
      ]
    },
    {
      "cell_type": "code",
      "metadata": {
        "colab": {
          "base_uri": "https://localhost:8080/"
        },
        "id": "kP9OqD1S_tYA",
        "outputId": "9af21ed8-665a-4846-8476-079978c81158"
      },
      "source": [
        "with open(\"ArquivoWith.txt\", \"r\") as arquivoWith:\r\n",
        "  conteudo = arquivoWith.read()\r\n",
        "  print(conteudo)"
      ],
      "execution_count": 26,
      "outputs": [
        {
          "output_type": "stream",
          "text": [
            "Inserindo texto com With\n",
            "Inserindo texto com With\n",
            "Inserindo texto com With\n",
            "Inserindo texto com With\n",
            "Inserindo texto com With\n",
            "\n"
          ],
          "name": "stdout"
        }
      ]
    },
    {
      "cell_type": "code",
      "metadata": {
        "colab": {
          "base_uri": "https://localhost:8080/"
        },
        "id": "8WaGKk0oBYzB",
        "outputId": "7193a18d-43ab-4f01-f404-821bd956ffd6"
      },
      "source": [
        "with open(\"ArquivoWith.txt\", \"r\") as arquivoWith:\r\n",
        " for linha in arquivoWith.readlines():\r\n",
        "   print(linha)"
      ],
      "execution_count": 27,
      "outputs": [
        {
          "output_type": "stream",
          "text": [
            "Inserindo texto com With\n",
            "\n",
            "Inserindo texto com With\n",
            "\n",
            "Inserindo texto com With\n",
            "\n",
            "Inserindo texto com With\n",
            "\n",
            "Inserindo texto com With\n",
            "\n"
          ],
          "name": "stdout"
        }
      ]
    },
    {
      "cell_type": "markdown",
      "metadata": {
        "id": "ft2C8OwGDNUx"
      },
      "source": [
        "# Dicionário e arquivos"
      ]
    },
    {
      "cell_type": "code",
      "metadata": {
        "id": "vrbddvziEvU9"
      },
      "source": [
        "usuarios={}\r\n",
        "usuarios={\r\n",
        "    \"Chaves\":[\"Chaves Silva\",\"17/06/2017\",\"Recep_01\"],\r\n",
        "    \"Quico\":[\"Enrico Flores\",\"03/06/2017\",\"Raiox_02\"]\r\n",
        "}"
      ],
      "execution_count": 28,
      "outputs": []
    },
    {
      "cell_type": "code",
      "metadata": {
        "id": "ccGWQKZ0DTWA"
      },
      "source": [
        "def salvar(dicionario):\r\n",
        "  with open(\"bd.txt\",\"a\") as arquivo:\r\n",
        "    for chave, valor in dicionario.items():\r\n",
        "      arquivo.write(chave + \":\" + str(valor))"
      ],
      "execution_count": 29,
      "outputs": []
    },
    {
      "cell_type": "code",
      "metadata": {
        "id": "BPQ2qC9pFG8O"
      },
      "source": [
        "salvar(usuarios)"
      ],
      "execution_count": 30,
      "outputs": []
    }
  ]
}